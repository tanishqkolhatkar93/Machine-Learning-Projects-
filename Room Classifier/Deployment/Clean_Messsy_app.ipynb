{
  "nbformat": 4,
  "nbformat_minor": 2,
  "metadata": {
    "colab": {
      "name": "Clean/Messsy_app.ipynb",
      "provenance": [],
      "collapsed_sections": []
    },
    "kernelspec": {
      "name": "python3",
      "display_name": "Python 3"
    },
    "language_info": {
      "name": "python"
    }
  },
  "cells": [
    {
      "cell_type": "code",
      "execution_count": null,
      "source": [
        "!pip install streamlit"
      ],
      "outputs": [],
      "metadata": {
        "id": "U6AcmQeIWPav"
      }
    },
    {
      "cell_type": "code",
      "execution_count": null,
      "source": [
        "!pip install pyngrok #installing ngrok"
      ],
      "outputs": [],
      "metadata": {
        "id": "qhGGPdPuW58S"
      }
    },
    {
      "cell_type": "code",
      "execution_count": 25,
      "source": [
        "import streamlit as st #importing streamlit and tensorflow\r\n",
        "import tensorflow as tf\r\n",
        "import cv2\r\n",
        "import keras\r\n",
        "from tensorflow.keras.models import Sequential\r\n",
        "from tensorflow.keras.layers import Dense, Dropout, Conv2D, MaxPooling2D, BatchNormalization, Flatten\r\n",
        "import numpy as np\r\n",
        "from PIL import Image ,ImageOps"
      ],
      "outputs": [],
      "metadata": {
        "id": "zA_8GHbYUUfL"
      }
    },
    {
      "cell_type": "code",
      "execution_count": 26,
      "source": [
        "%%writefile app.py \r\n",
        "#importing all the required libraries\r\n",
        "import streamlit as st \r\n",
        "import tensorflow as tf\r\n",
        "import cv2\r\n",
        "import keras\r\n",
        "from tensorflow.keras.models import Sequential\r\n",
        "from tensorflow.keras.layers import Dense, Dropout, Conv2D, MaxPooling2D, BatchNormalization, Flatten\r\n",
        "import numpy as np\r\n",
        "from PIL import Image ,ImageOps\r\n",
        "\r\n",
        "\r\n",
        "st.set_option('deprecation.showfileUploaderEncoding',False) #on loading a streamlit app we get a warning, this line prevents us from getting that warning\r\n",
        "\r\n",
        "@st.cache(allow_output_mutation=True) #this line prevent us from loading the model again and again and will help in storing the model in cache once it has been loaded\r\n",
        "\r\n",
        "def load_model(): #loading our model\r\n",
        "  model = tf.keras.models.load_model('/content/messy_clean_model(vgg19) (1).h5')\r\n",
        "  return model\r\n",
        "\r\n",
        "model = load_model()\r\n",
        "#defining the header or title of the page that the user will be seeing. We also make a side bar for the web app\r\n",
        "\r\n",
        "st.markdown(\"<h1 style='text-align: center; color: White;'>Clean V/s Messy Room Classifier</h1>\", unsafe_allow_html=True)\r\n",
        "st.markdown(\"<h3 style='text-align: center; color: White;'>You need to upload the image of your room and the classifier will do the rest.</h3>\", unsafe_allow_html=True)\r\n",
        "\r\n",
        "st.sidebar.header(\"What is this Project about?\")\r\n",
        "st.sidebar.text(\"This classifier was a part of project where we dtected whether a person's room was clean or not and rewarded them with our own custom cryptocurrency.\")\r\n",
        "st.sidebar.header(\"Created by Aayush Mishra\")\r\n",
        "\r\n",
        "file=st.file_uploader(\"Please upload the image of the room: \",type = [\"jpg\",\"png\"]) #accepting the image input from the user\r\n",
        "\r\n",
        "def import_and_predict(image_data,model): #our prediction method that will accept the data and the model and would give us a prediction\r\n",
        "  #pre-processing the image before it is fed to the model\r\n",
        "  size = (224,224)\r\n",
        "  image1 = ImageOps.fit(image_data,size,Image.ANTIALIAS)\r\n",
        "  img = np.asarray(image1)\r\n",
        "  img_reshape = img[np.newaxis,...]\r\n",
        "  img_reshape = img.reshape(1,224,224,3)\r\n",
        "  prediction = model.predict(img_reshape)\r\n",
        "  return prediction\r\n",
        "\r\n",
        "if file is None: #initial condition when no image has been uploaded by the user\r\n",
        "  st.markdown(\"<h5 style='text-align: center; color: White;'>Please Upload a File</h5>\", unsafe_allow_html=True)\r\n",
        "else: #condition to give the result once the user has input the image \r\n",
        "  image = Image.open(file)\r\n",
        "  st.image(image,use_column_width = True)\r\n",
        "  predictions = import_and_predict(image,model)\r\n",
        "  class_names = ['clean','messy']\r\n",
        "  string = \"The room in the above image is:\"+ class_names[np.argmax(predictions)]\r\n",
        "  st.success(string)"
      ],
      "outputs": [
        {
          "output_type": "stream",
          "name": "stdout",
          "text": [
            "Overwriting app.py\n"
          ]
        }
      ],
      "metadata": {
        "colab": {
          "base_uri": "https://localhost:8080/"
        },
        "id": "9DLpGnuwU3Lq",
        "outputId": "ca04dead-c50c-4c1a-aef5-8bc088d46e0b"
      }
    },
    {
      "cell_type": "code",
      "execution_count": 27,
      "source": [
        "!ngrok authtoken \"your auth token\""
      ],
      "outputs": [
        {
          "output_type": "stream",
          "name": "stdout",
          "text": [
            "Authtoken saved to configuration file: /root/.ngrok2/ngrok.yml\n"
          ]
        }
      ],
      "metadata": {
        "colab": {
          "base_uri": "https://localhost:8080/"
        },
        "id": "U-scwF0FYjU6",
        "outputId": "4d2c2cda-c31b-4f43-c21c-74a5743f085c"
      }
    },
    {
      "cell_type": "code",
      "execution_count": 28,
      "source": [
        "!nohup streamlit run app.py & #running our app"
      ],
      "outputs": [
        {
          "output_type": "stream",
          "name": "stdout",
          "text": [
            "nohup: appending output to 'nohup.out'\n"
          ]
        }
      ],
      "metadata": {
        "colab": {
          "base_uri": "https://localhost:8080/"
        },
        "id": "JkjLZrtkYoIx",
        "outputId": "150f26a8-55ea-4330-aa96-05cef4305413"
      }
    },
    {
      "cell_type": "code",
      "execution_count": 29,
      "source": [
        "from pyngrok import ngrok  #creating the ngrok tunnel\r\n",
        "url = ngrok.connect(port = 8501)\r\n",
        "url"
      ],
      "outputs": [
        {
          "output_type": "stream",
          "name": "stderr",
          "text": [
            "2021-03-31 04:46:54.297 INFO    pyngrok.ngrok: Opening tunnel named: http-80-d8d21927-3f48-4a58-81dc-f114db7380dd\n",
            "2021-03-31 04:46:54.346 INFO    pyngrok.process.ngrok: t=2021-03-31T04:46:54+0000 lvl=info msg=\"no configuration paths supplied\"\n",
            "2021-03-31 04:46:54.355 INFO    pyngrok.process.ngrok: t=2021-03-31T04:46:54+0000 lvl=info msg=\"using configuration at default config path\" path=/root/.ngrok2/ngrok.yml\n",
            "2021-03-31 04:46:54.360 INFO    pyngrok.process.ngrok: t=2021-03-31T04:46:54+0000 lvl=info msg=\"open config file\" path=/root/.ngrok2/ngrok.yml err=nil\n",
            "2021-03-31 04:46:54.364 INFO    pyngrok.process.ngrok: t=2021-03-31T04:46:54+0000 lvl=info msg=\"starting web service\" obj=web addr=127.0.0.1:4040\n",
            "2021-03-31 04:46:54.463 INFO    pyngrok.process.ngrok: t=2021-03-31T04:46:54+0000 lvl=info msg=\"tunnel session started\" obj=tunnels.session\n",
            "2021-03-31 04:46:54.468 INFO    pyngrok.process.ngrok: t=2021-03-31T04:46:54+0000 lvl=info msg=\"client session established\" obj=csess id=abf4211ae8f7\n",
            "2021-03-31 04:46:54.482 INFO    pyngrok.process.ngrok: t=2021-03-31T04:46:54+0000 lvl=info msg=start pg=/api/tunnels id=93131710d77409b8\n",
            "2021-03-31 04:46:54.492 INFO    pyngrok.process.ngrok: t=2021-03-31T04:46:54+0000 lvl=info msg=end pg=/api/tunnels id=93131710d77409b8 status=200 dur=405.415µs\n",
            "2021-03-31 04:46:54.497 INFO    pyngrok.process.ngrok: t=2021-03-31T04:46:54+0000 lvl=info msg=start pg=/api/tunnels id=e8c947a928bb65fc\n",
            "2021-03-31 04:46:54.502 INFO    pyngrok.process.ngrok: t=2021-03-31T04:46:54+0000 lvl=info msg=end pg=/api/tunnels id=e8c947a928bb65fc status=200 dur=126.106µs\n",
            "2021-03-31 04:46:54.507 INFO    pyngrok.process.ngrok: t=2021-03-31T04:46:54+0000 lvl=info msg=start pg=/api/tunnels id=f78cacf49412c3ef\n",
            "2021-03-31 04:46:54.547 INFO    pyngrok.process.ngrok: t=2021-03-31T04:46:54+0000 lvl=info msg=\"started tunnel\" obj=tunnels name=\"http-80-d8d21927-3f48-4a58-81dc-f114db7380dd (http)\" addr=http://localhost:80 url=http://a9a61df56b15.ngrok.io\n"
          ]
        },
        {
          "output_type": "execute_result",
          "data": {
            "text/plain": [
              "<NgrokTunnel: \"http://a9a61df56b15.ngrok.io\" -> \"http://localhost:80\">"
            ]
          },
          "metadata": {
            "tags": []
          },
          "execution_count": 29
        },
        {
          "output_type": "stream",
          "name": "stderr",
          "text": [
            "2021-03-31 04:46:54.556 INFO    pyngrok.process.ngrok: t=2021-03-31T04:46:54+0000 lvl=info msg=\"started tunnel\" obj=tunnels name=http-80-d8d21927-3f48-4a58-81dc-f114db7380dd addr=http://localhost:80 url=https://a9a61df56b15.ngrok.io\n",
            "2021-03-31 04:46:54.560 INFO    pyngrok.process.ngrok: t=2021-03-31T04:46:54+0000 lvl=info msg=end pg=/api/tunnels id=f78cacf49412c3ef status=201 dur=62.832496ms\n",
            "2021-03-31 04:46:54.562 INFO    pyngrok.process.ngrok: t=2021-03-31T04:46:54+0000 lvl=info msg=start pg=\"/api/tunnels/http-80-d8d21927-3f48-4a58-81dc-f114db7380dd (http)\" id=aef9f2d06fae2fc4\n",
            "2021-03-31 04:46:54.566 INFO    pyngrok.process.ngrok: t=2021-03-31T04:46:54+0000 lvl=info msg=end pg=\"/api/tunnels/http-80-d8d21927-3f48-4a58-81dc-f114db7380dd (http)\" id=aef9f2d06fae2fc4 status=200 dur=148.261µs\n"
          ]
        }
      ],
      "metadata": {
        "colab": {
          "base_uri": "https://localhost:8080/"
        },
        "id": "_tCgnmWvYq4o",
        "outputId": "31862782-4f40-453a-d8e2-870249979ac0"
      }
    },
    {
      "cell_type": "code",
      "execution_count": 30,
      "source": [
        "!streamlit run --server.port 80 app.py >/dev/null #running our server so that we can access the app"
      ],
      "outputs": [
        {
          "output_type": "stream",
          "name": "stdout",
          "text": [
            "2021-03-31 04:46:57.708 An update to the [server] config option section was detected. To have these changes be reflected, please restart streamlit.\n",
            "2021-03-31 04:46:58.077569: I tensorflow/stream_executor/platform/default/dso_loader.cc:49] Successfully opened dynamic library libcudart.so.11.0\n",
            "2021-03-31 04:46:59.713258: I tensorflow/compiler/jit/xla_cpu_device.cc:41] Not creating XLA devices, tf_xla_enable_xla_devices not set\n",
            "2021-03-31 04:46:59.714289: I tensorflow/stream_executor/platform/default/dso_loader.cc:49] Successfully opened dynamic library libcuda.so.1\n",
            "2021-03-31 04:46:59.725598: E tensorflow/stream_executor/cuda/cuda_driver.cc:328] failed call to cuInit: CUDA_ERROR_NO_DEVICE: no CUDA-capable device is detected\n",
            "2021-03-31 04:46:59.725647: I tensorflow/stream_executor/cuda/cuda_diagnostics.cc:156] kernel driver does not appear to be running on this host (801d9c3b37ed): /proc/driver/nvidia/version does not exist\n",
            "2021-03-31 04:46:59.726161: I tensorflow/compiler/jit/xla_gpu_device.cc:99] Not creating XLA devices, tf_xla_enable_xla_devices not set\n"
          ]
        },
        {
          "output_type": "stream",
          "name": "stderr",
          "text": [
            "2021-03-31 04:47:00.458 INFO    pyngrok.process.ngrok: t=2021-03-31T04:47:00+0000 lvl=info msg=\"join connections\" obj=join id=d56d7c8914e4 l=127.0.0.1:80 r=103.226.144.226:52384\n",
            "2021-03-31 04:47:00.977 INFO    pyngrok.process.ngrok: t=2021-03-31T04:47:00+0000 lvl=info msg=\"join connections\" obj=join id=ae9f559ebaa4 l=127.0.0.1:80 r=103.226.144.226:52385\n",
            "2021-03-31 04:47:05.159 INFO    pyngrok.process.ngrok: t=2021-03-31T04:47:05+0000 lvl=info msg=\"join connections\" obj=join id=08dcf65751d8 l=127.0.0.1:80 r=103.226.144.226:52391\n",
            "2021-03-31 04:47:05.686 INFO    pyngrok.process.ngrok: t=2021-03-31T04:47:05+0000 lvl=info msg=\"join connections\" obj=join id=a8373eeaaab6 l=127.0.0.1:80 r=103.226.144.226:52385\n"
          ]
        },
        {
          "output_type": "stream",
          "name": "stdout",
          "text": [
            "2021-03-31 04:47:16.668065: I tensorflow/compiler/mlir/mlir_graph_optimization_pass.cc:116] None of the MLIR optimization passes are enabled (registered 2)\n",
            "2021-03-31 04:47:16.668544: I tensorflow/core/platform/profile_utils/cpu_utils.cc:112] CPU Frequency: 2299995000 Hz\n"
          ]
        },
        {
          "output_type": "stream",
          "name": "stderr",
          "text": [
            "2021-03-31 04:53:26.031 INFO    pyngrok.process.ngrok: t=2021-03-31T04:53:26+0000 lvl=info msg=\"join connections\" obj=join id=f290f1ac3dfe l=127.0.0.1:80 r=103.226.144.226:52779\n",
            "2021-03-31 04:53:46.249 INFO    pyngrok.process.ngrok: t=2021-03-31T04:53:46+0000 lvl=info msg=\"received stop request\" obj=app stopReq=\"{err:<nil> restart:false}\"\n",
            "2021-03-31 04:53:46.255 INFO    pyngrok.process.ngrok: t=2021-03-31T04:53:46+0000 lvl=info msg=\"session closing\" obj=tunnels.session err=nil\n"
          ]
        }
      ],
      "metadata": {
        "colab": {
          "base_uri": "https://localhost:8080/"
        },
        "id": "CXs9qlN8Ytal",
        "outputId": "313fc0cc-622a-45e8-9ef2-e1fb08e78aca"
      }
    },
    {
      "cell_type": "code",
      "execution_count": null,
      "source": [],
      "outputs": [],
      "metadata": {
        "id": "SPIejcxZYywS"
      }
    }
  ]
}