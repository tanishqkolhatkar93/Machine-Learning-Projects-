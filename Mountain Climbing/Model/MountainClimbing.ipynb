{
 "cells": [
  {
   "cell_type": "markdown",
   "source": [
    "## Importing Libraries"
   ],
   "metadata": {}
  },
  {
   "cell_type": "code",
   "execution_count": 1,
   "source": [
    "import gym\r\n",
    "import random\r\n",
    "from keras import Sequential\r\n",
    "from collections import deque\r\n",
    "from keras.layers import Dense\r\n",
    "from keras.optimizers import Adam\r\n",
    "import matplotlib.pyplot as plt\r\n",
    "from keras.activations import relu, linear"
   ],
   "outputs": [],
   "metadata": {}
  },
  {
   "cell_type": "markdown",
   "source": [
    "## Setup Environment"
   ],
   "metadata": {}
  },
  {
   "cell_type": "code",
   "execution_count": 2,
   "source": [
    "import numpy as np\r\n",
    "env = gym.make('MountainCar-v0')\r\n",
    "env.seed(110)\r\n",
    "np.random.seed(10)"
   ],
   "outputs": [],
   "metadata": {}
  },
  {
   "cell_type": "markdown",
   "source": [
    "## Creating DQN Agent"
   ],
   "metadata": {}
  },
  {
   "cell_type": "code",
   "execution_count": 9,
   "source": [
    "class DQN:\r\n",
    "\r\n",
    "    \"\"\" Implementation of deep q learning algorithm \"\"\"\r\n",
    "\r\n",
    "    def __init__(self, action_space, state_space):\r\n",
    "\r\n",
    "        self.action_space = action_space\r\n",
    "        self.state_space = state_space\r\n",
    "        self.epsilon = 1.0\r\n",
    "        self.gamma = .95\r\n",
    "        self.batch_size = 64\r\n",
    "        self.epsilon_min = .01\r\n",
    "        self.lr = 0.001\r\n",
    "        self.epsilon_decay = .995\r\n",
    "        self.memory = deque(maxlen=100000)\r\n",
    "        self.model = self.build_model()\r\n",
    "\r\n",
    "    def build_model(self):\r\n",
    "\r\n",
    "        model = Sequential()\r\n",
    "        model.add(Dense(20, input_dim=self.state_space, activation=relu))\r\n",
    "        model.add(Dense(24, activation=relu))\r\n",
    "        model.add(Dense(self.action_space, activation=linear))\r\n",
    "        model.compile(loss='mse', optimizer=Adam(lr=self.lr))\r\n",
    "        return model\r\n",
    "\r\n",
    "    def remember(self, state, action, reward, next_state, done):\r\n",
    "        self.memory.append((state, action, reward, next_state, done))\r\n",
    "\r\n",
    "    def act(self, state):\r\n",
    "\r\n",
    "        if np.random.rand() <= self.epsilon:\r\n",
    "            return random.randrange(self.action_space)\r\n",
    "        act_values = self.model.predict(state)\r\n",
    "        return np.argmax(act_values[0])\r\n",
    "\r\n",
    "    def replay(self):\r\n",
    "\r\n",
    "        if len(self.memory) < self.batch_size:\r\n",
    "            return\r\n",
    "\r\n",
    "        minibatch = random.sample(self.memory, self.batch_size)\r\n",
    "        states = np.array([i[0] for i in minibatch])\r\n",
    "        actions = np.array([i[1] for i in minibatch])\r\n",
    "        rewards = np.array([i[2] for i in minibatch])\r\n",
    "        next_states = np.array([i[3] for i in minibatch])\r\n",
    "        dones = np.array([i[4] for i in minibatch])\r\n",
    "\r\n",
    "        states = np.squeeze(states)\r\n",
    "        next_states = np.squeeze(next_states)\r\n",
    "\r\n",
    "        targets = rewards + self.gamma*(np.amax(self.model.predict_on_batch(next_states), axis=1))*(1-dones)\r\n",
    "        targets_full = self.model.predict_on_batch(states)\r\n",
    "\r\n",
    "        ind = np.array([i for i in range(self.batch_size)])\r\n",
    "        targets_full[[ind], [actions]] = targets\r\n",
    "\r\n",
    "        self.model.fit(states, targets_full, epochs=1, verbose=0)\r\n",
    "        if self.epsilon > self.epsilon_min:\r\n",
    "            self.epsilon *= self.epsilon_decay"
   ],
   "outputs": [],
   "metadata": {}
  },
  {
   "cell_type": "markdown",
   "source": [
    "## Reward Mechanism"
   ],
   "metadata": {}
  },
  {
   "cell_type": "code",
   "execution_count": 10,
   "source": [
    "def get_reward(state):\r\n",
    "\r\n",
    "    if state[0] >= 0.5:\r\n",
    "        print(\"Car has reached the goal\")\r\n",
    "        return 10\r\n",
    "    if state[0] > -0.4:\r\n",
    "        return (1+state[0])**2\r\n",
    "    return 0"
   ],
   "outputs": [],
   "metadata": {}
  },
  {
   "cell_type": "markdown",
   "source": [
    "## Model Training Function"
   ],
   "metadata": {}
  },
  {
   "cell_type": "code",
   "execution_count": 11,
   "source": [
    "def train_dqn(episode):\r\n",
    "\r\n",
    "    loss = []\r\n",
    "    agent = DQN(env.action_space.n, env.observation_space.shape[0])\r\n",
    "    for e in range(episode):\r\n",
    "        state = env.reset()\r\n",
    "        state = np.reshape(state, (1, 2))\r\n",
    "        score = 0\r\n",
    "        max_steps = 3000\r\n",
    "        for i in range(max_steps):\r\n",
    "            action = agent.act(state)\r\n",
    "            env.render()\r\n",
    "            next_state, reward, done, _ = env.step(action)\r\n",
    "            reward = get_reward(next_state)\r\n",
    "            score += reward\r\n",
    "            next_state = np.reshape(next_state, (1, 2))\r\n",
    "            agent.remember(state, action, reward, next_state, done)\r\n",
    "            state = next_state\r\n",
    "            agent.replay()\r\n",
    "            if done:\r\n",
    "                print(\"episode: {}/{}, score: {}\".format(e, episode, score))\r\n",
    "                break\r\n",
    "        loss.append(score)\r\n",
    "    return loss"
   ],
   "outputs": [],
   "metadata": {}
  },
  {
   "cell_type": "code",
   "execution_count": 12,
   "source": [
    "def random_policy(episode, step):\r\n",
    "\r\n",
    "    for i_episode in range(episode):\r\n",
    "        env.reset()\r\n",
    "        for t in range(step):\r\n",
    "            env.render()\r\n",
    "            action = env.action_space.sample()\r\n",
    "            state, reward, done, info = env.step(action)\r\n",
    "            if done:\r\n",
    "                print(\"Episode finished after {} timesteps\".format(t+1))\r\n",
    "                break\r\n",
    "            print(\"Starting next episode\")"
   ],
   "outputs": [],
   "metadata": {}
  },
  {
   "cell_type": "markdown",
   "source": [
    "## Simulation and Training"
   ],
   "metadata": {}
  },
  {
   "cell_type": "code",
   "execution_count": 13,
   "source": [
    "print(env.observation_space)\r\n",
    "print(env.action_space)\r\n",
    "episodes = 100\r\n",
    "loss = train_dqn(episodes)\r\n",
    "plt.plot([i+1 for i in range(episodes)], loss)\r\n",
    "plt.show()"
   ],
   "outputs": [
    {
     "output_type": "stream",
     "name": "stdout",
     "text": [
      "Box([-1.2  -0.07], [0.6  0.07], (2,), float32)\n",
      "Discrete(3)\n",
      "episode: 0/100, score: 5.3404510067951305\n",
      "episode: 1/100, score: 5.619194088490328\n",
      "episode: 2/100, score: 2.9253129914387412\n",
      "episode: 3/100, score: 58.24247354202909\n",
      "episode: 4/100, score: 50.58122100167996\n",
      "episode: 5/100, score: 54.26087280734667\n",
      "episode: 6/100, score: 57.25188337901482\n",
      "episode: 7/100, score: 54.04642063423588\n",
      "episode: 8/100, score: 51.02873939868207\n",
      "episode: 9/100, score: 52.2806925668602\n",
      "episode: 10/100, score: 57.211379822799316\n",
      "episode: 11/100, score: 61.35731506167554\n",
      "episode: 12/100, score: 53.82446693938679\n",
      "episode: 13/100, score: 72.22537609985885\n",
      "episode: 14/100, score: 58.84401302752526\n",
      "episode: 15/100, score: 51.59536900456225\n",
      "episode: 16/100, score: 62.66368558535375\n",
      "episode: 17/100, score: 59.395693563076144\n",
      "episode: 18/100, score: 52.18616535726073\n",
      "episode: 19/100, score: 59.39708798402614\n",
      "episode: 20/100, score: 49.76336852998057\n",
      "episode: 21/100, score: 61.44628541818607\n",
      "episode: 22/100, score: 88.65830588760224\n",
      "episode: 23/100, score: 65.35318559178218\n",
      "episode: 24/100, score: 46.63792326242613\n",
      "episode: 25/100, score: 50.6348034492578\n",
      "episode: 26/100, score: 58.3196506861608\n",
      "episode: 27/100, score: 58.70172487568203\n",
      "episode: 28/100, score: 49.671151235047354\n",
      "episode: 29/100, score: 58.6156512114309\n",
      "episode: 30/100, score: 68.82955461859868\n",
      "episode: 31/100, score: 56.312447455018926\n",
      "episode: 32/100, score: 67.41603525817105\n",
      "episode: 33/100, score: 62.68280798918502\n",
      "episode: 34/100, score: 51.97679994862049\n",
      "episode: 35/100, score: 52.22215593783478\n",
      "episode: 36/100, score: 62.7305574037955\n",
      "episode: 37/100, score: 58.09351089958637\n",
      "episode: 38/100, score: 54.502875918343875\n",
      "episode: 39/100, score: 43.59557297343518\n",
      "episode: 40/100, score: 58.01723104117713\n",
      "episode: 41/100, score: 51.85990710911373\n",
      "episode: 42/100, score: 51.61293853555813\n",
      "episode: 43/100, score: 51.636674825274376\n",
      "episode: 44/100, score: 51.36691670832387\n",
      "episode: 45/100, score: 64.80033854689376\n",
      "episode: 46/100, score: 53.199720488311165\n",
      "episode: 47/100, score: 52.25140844292358\n",
      "episode: 48/100, score: 71.47136929737793\n",
      "episode: 49/100, score: 52.00858025315007\n",
      "episode: 50/100, score: 69.5041510222068\n",
      "episode: 51/100, score: 74.48051433962067\n",
      "episode: 52/100, score: 53.13295106409181\n",
      "episode: 53/100, score: 52.22554030887885\n",
      "episode: 54/100, score: 51.13957729923419\n",
      "episode: 55/100, score: 50.69340817256084\n",
      "episode: 56/100, score: 68.68654031909745\n",
      "episode: 57/100, score: 50.50699796901056\n",
      "episode: 58/100, score: 52.768787914898624\n",
      "episode: 59/100, score: 54.408498350481686\n",
      "Car has reached the goal\n",
      "episode: 60/100, score: 85.26223339955423\n",
      "episode: 61/100, score: 52.7636161857088\n",
      "episode: 62/100, score: 59.50556429963836\n",
      "episode: 63/100, score: 47.45161630953527\n",
      "episode: 64/100, score: 49.8470222295373\n",
      "episode: 65/100, score: 57.7278938913076\n",
      "episode: 66/100, score: 52.698094473339154\n",
      "episode: 67/100, score: 54.98732283622563\n",
      "episode: 68/100, score: 60.991362848053996\n",
      "episode: 69/100, score: 52.205994197614004\n",
      "episode: 70/100, score: 61.25560906685047\n",
      "Car has reached the goal\n",
      "episode: 71/100, score: 93.49642715266445\n",
      "episode: 72/100, score: 60.701575865368895\n",
      "episode: 73/100, score: 52.57399436088899\n",
      "Car has reached the goal\n",
      "episode: 74/100, score: 89.40408023097415\n",
      "episode: 75/100, score: 52.151486656812175\n",
      "episode: 76/100, score: 63.33637428480117\n",
      "episode: 77/100, score: 47.189670924890336\n",
      "episode: 78/100, score: 76.42827152342116\n",
      "Car has reached the goal\n",
      "episode: 79/100, score: 65.69419818660094\n",
      "episode: 80/100, score: 62.69014656238568\n",
      "episode: 81/100, score: 52.072323639001404\n",
      "episode: 82/100, score: 62.27756098454171\n",
      "episode: 83/100, score: 47.41941043357329\n",
      "episode: 84/100, score: 46.20852393112203\n",
      "episode: 85/100, score: 57.39175677572286\n",
      "episode: 86/100, score: 47.61166050853933\n",
      "episode: 87/100, score: 51.06017291374063\n",
      "episode: 88/100, score: 48.755644274045025\n",
      "episode: 89/100, score: 52.26385487509074\n",
      "episode: 90/100, score: 39.50369860030075\n",
      "episode: 91/100, score: 56.6201244837045\n",
      "episode: 92/100, score: 53.50094766434698\n",
      "episode: 93/100, score: 67.43802222389556\n",
      "episode: 94/100, score: 64.15520274391719\n",
      "episode: 95/100, score: 54.111590437793566\n",
      "episode: 96/100, score: 77.09986916129962\n",
      "episode: 97/100, score: 73.18725009293352\n",
      "episode: 98/100, score: 54.45354109651854\n",
      "episode: 99/100, score: 61.802307218784605\n"
     ]
    },
    {
     "output_type": "display_data",
     "data": {
      "image/png": "[encoded data removed]",
      "text/plain": [
       "<Figure size 432x288 with 1 Axes>"
      ]
     },
     "metadata": {
      "needs_background": "light"
     }
    }
   ],
   "metadata": {}
  }
 ],
 "metadata": {
  "orig_nbformat": 4,
  "language_info": {
   "name": "python",
   "version": "3.9.2",
   "mimetype": "text/x-python",
   "codemirror_mode": {
    "name": "ipython",
    "version": 3
   },
   "pygments_lexer": "ipython3",
   "nbconvert_exporter": "python",
   "file_extension": ".py"
  },
  "kernelspec": {
   "name": "python3",
   "display_name": "Python 3.9.2 64-bit"
  },
  "interpreter": {
   "hash": "33dc6d49505b4536b6a128d9d7c879e1fa44477ad44947bbbe73093067fe6393"
  }
 },
 "nbformat": 4,
 "nbformat_minor": 2
}