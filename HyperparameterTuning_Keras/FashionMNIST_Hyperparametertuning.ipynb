{
  "nbformat": 4,
  "nbformat_minor": 2,
  "metadata": {
    "colab": {
      "name": "FashionMNIST_Hyperparametertuning.ipynb",
      "provenance": [],
      "collapsed_sections": []
    },
    "kernelspec": {
      "name": "python3",
      "display_name": "Python 3"
    },
    "language_info": {
      "name": "python"
    }
  },
  "cells": [
    {
      "cell_type": "markdown",
      "source": [
        "The following notebook shows the implementation of hyperparamter tuning on a CNN built to process the FashionMNIST dataset.\n",
        "\n"
      ],
      "metadata": {
        "id": "c2JSWFD2k4d-"
      }
    },
    {
      "cell_type": "markdown",
      "source": [
        "The necessary libraries from tensorflow and matplotlib are imported."
      ],
      "metadata": {
        "id": "-3sKPGgRlYyG"
      }
    },
    {
      "cell_type": "code",
      "execution_count": 1,
      "source": [
        "from tensorflow.keras import datasets, layers, models\r\n",
        "import matplotlib.pyplot as plt\r\n",
        "import tensorflow as tf"
      ],
      "outputs": [],
      "metadata": {
        "id": "8_xlZuI5N6Cc"
      }
    },
    {
      "cell_type": "markdown",
      "source": [
        "\n",
        "\n",
        "\n",
        "*  The Fashion MNIST dataset from the library tensorflow.datasets is loaded. The training and test sets are already divided in the dataset and can be easily retrieved and used.It contains a total of 10 classes and is used for classification purposes.\n",
        "*  Images are nothing but a matrix made up of pixel values which range from 0 to 255.\n",
        "*  In order to help in processing, the pixel values are normalised by dividing each pixel value by 255 to obtain the new values between 0 to 1.\n"
      ],
      "metadata": {
        "id": "25fImFEKlpFW"
      }
    },
    {
      "cell_type": "code",
      "execution_count": 2,
      "source": [
        "(x_train, y_train), (x_test, y_test) = datasets.fashion_mnist.load_data()\r\n",
        "x_train, x_test = x_train / 255.0, x_test / 255.0"
      ],
      "outputs": [
        {
          "output_type": "stream",
          "name": "stdout",
          "text": [
            "Downloading data from https://storage.googleapis.com/tensorflow/tf-keras-datasets/train-labels-idx1-ubyte.gz\n",
            "32768/29515 [=================================] - 0s 0us/step\n",
            "40960/29515 [=========================================] - 0s 0us/step\n",
            "Downloading data from https://storage.googleapis.com/tensorflow/tf-keras-datasets/train-images-idx3-ubyte.gz\n",
            "26427392/26421880 [==============================] - 0s 0us/step\n",
            "26435584/26421880 [==============================] - 0s 0us/step\n",
            "Downloading data from https://storage.googleapis.com/tensorflow/tf-keras-datasets/t10k-labels-idx1-ubyte.gz\n",
            "16384/5148 [===============================================================================================] - 0s 0us/step\n",
            "Downloading data from https://storage.googleapis.com/tensorflow/tf-keras-datasets/t10k-images-idx3-ubyte.gz\n",
            "4423680/4422102 [==============================] - 0s 0us/step\n",
            "4431872/4422102 [==============================] - 0s 0us/step\n"
          ]
        }
      ],
      "metadata": {
        "id": "81utXQ9kOSKp",
        "colab": {
          "base_uri": "https://localhost:8080/"
        },
        "outputId": "c8d6ef4a-86ea-400b-f31d-9675bce87ecd"
      }
    },
    {
      "cell_type": "markdown",
      "source": [
        "Follwing are some of the elements of the FashionMNIST dataset and the titles represent the integer values given to the particular type of apparel.\n",
        "i.e. 9 for shoe , 0 for shirts/topwear "
      ],
      "metadata": {
        "id": "dKo6A6uM36ng"
      }
    },
    {
      "cell_type": "code",
      "execution_count": 9,
      "source": [
        "plt.figure(figsize=(10,10))\r\n",
        "for i in range(0,5):\r\n",
        "  plt.subplot(1,5,i+1)\r\n",
        "  plt.title(y_train[i])\r\n",
        "  plt.imshow(x_train[i], cmap='gray_r')"
      ],
      "outputs": [
        {
          "output_type": "display_data",
          "data": {
            "image/png": "[encoded data removed]",
            "text/plain": [
              "<Figure size 720x720 with 5 Axes>"
            ]
          },
          "metadata": {
            "needs_background": "light"
          }
        }
      ],
      "metadata": {
        "colab": {
          "base_uri": "https://localhost:8080/",
          "height": 160
        },
        "id": "s1P133-72k5A",
        "outputId": "d46aa7de-da9c-4d23-a2ed-acf2678b1009"
      }
    },
    {
      "cell_type": "markdown",
      "source": [
        "The appropriate loss and optimizers to be used are defined in the below cell.\n",
        "We use Categorical cross entropy loss function as we are dealing with a multiclass classification problem.(10 classes)\n",
        "Adam optimzer is the most popular opitmizer choice and works well for most models."
      ],
      "metadata": {
        "id": "6HcxNxzx2AMl"
      }
    },
    {
      "cell_type": "code",
      "execution_count": null,
      "source": [
        "loss_fn = tf.keras.losses.CategoricalCrossentropy(from_logits=True)\r\n",
        "optimizer_fn = tf.keras.optimizers.Adam(learning_rate=0.001)"
      ],
      "outputs": [],
      "metadata": {
        "id": "MbT7wnxIOXVD"
      }
    },
    {
      "cell_type": "markdown",
      "source": [
        "* A CNN model architecture is defined below with different convolutional and max pooling layers placed alternatively.\n",
        "* The max pooling layers are used to reduce the dimensions of the inputs to help the model process better.\n",
        "* Therefore,convolutinal layers make the image deeper and the max pooling layers reduce the size of images.\n",
        "* The model used 3 convolutional layers of depth 16,64,256 respectively with kernels of dimensions 3 by 3 and were alternated with Maxpooling layers to reduce the dimensionality.\n",
        "* The final output was flattened to get a linear input in order to feed it to the first fully connected layer on which a ReLU activation function was applied and the output passed on to a final fully connected layer wherein a softmax activation function was applied to map the output to one of the 10 classes of the dataset."
      ],
      "metadata": {
        "id": "za8mHfWO2dzU"
      }
    },
    {
      "cell_type": "code",
      "execution_count": null,
      "source": [
        "model =models.Sequential()\r\n",
        "model.add(tf.keras.layers.Conv2D(16, (3,3), activation=\"relu\", input_shape=(28,28,1), padding=\"same\"))\r\n",
        "model.add(tf.keras.layers.MaxPooling2D(2,2))\r\n",
        "model.add(tf.keras.layers.Conv2D(64, (3,3), activation=\"relu\", padding=\"same\")) #changed the depth of the convolutional layer\r\n",
        "model.add(tf.keras.layers.MaxPooling2D(2,2))\r\n",
        "model.add(tf.keras.layers.Conv2D(256, (3,3), activation=\"relu\", padding=\"same\")) #added a convolution layer\r\n",
        "model.add(tf.keras.layers.MaxPooling2D(2,2))                                     #added a max pool layer\r\n",
        "model.add(tf.keras.layers.Flatten())\r\n",
        "model.add(tf.keras.layers.Dense(64, activation=\"relu\"))\r\n",
        "model.add(tf.keras.layers.Dense(10,activation='softmax'))"
      ],
      "outputs": [],
      "metadata": {
        "id": "UVyj5HKzOafv"
      }
    },
    {
      "cell_type": "markdown",
      "source": [
        "The model is now compiled and the appropriate loss function and metrics used to evaluate the model, accuracy in our case."
      ],
      "metadata": {
        "id": "U7gCCuTD42ke"
      }
    },
    {
      "cell_type": "code",
      "execution_count": null,
      "source": [
        "model.compile(optimizer=optimizer_fn,\r\n",
        "              loss=loss_fn,\r\n",
        "              metrics=['accuracy'])"
      ],
      "outputs": [],
      "metadata": {
        "id": "aU-FoITFOiub"
      }
    },
    {
      "cell_type": "markdown",
      "source": [
        "The images are reshaped to an appropriate size for feeding into the CNN layer as defined in the first layer of the model architecture."
      ],
      "metadata": {
        "id": "E47ctlfz5CiS"
      }
    },
    {
      "cell_type": "code",
      "execution_count": null,
      "source": [
        "from tensorflow.keras.utils import to_categorical\r\n",
        "x_train = x_train.reshape((x_train.shape[0], 28, 28, 1))\r\n",
        "y_train = to_categorical(y_train, 10)\r\n",
        "x_test = x_test.reshape((x_test.shape[0], 28, 28, 1))\r\n",
        "y_test = to_categorical(y_test, 10)"
      ],
      "outputs": [],
      "metadata": {
        "id": "ip78OtuRUUJE"
      }
    },
    {
      "cell_type": "markdown",
      "source": [
        "The model is now trained on the train data and validated using the test data provided to us in the FashionMNIST dataset and a validation accuracy of 91.55% is achieved after 8 epochs."
      ],
      "metadata": {
        "id": "qtB5GJJO5vXr"
      }
    },
    {
      "cell_type": "code",
      "execution_count": null,
      "source": [
        "history = model.fit(x_train, y_train, validation_data=(x_test, y_test),epochs=8,batch_size=32)"
      ],
      "outputs": [
        {
          "output_type": "stream",
          "name": "stdout",
          "text": [
            "Epoch 1/8\n"
          ]
        },
        {
          "output_type": "stream",
          "name": "stderr",
          "text": [
            "/usr/local/lib/python3.7/dist-packages/keras/backend.py:4847: UserWarning: \"`categorical_crossentropy` received `from_logits=True`, but the `output` argument was produced by a sigmoid or softmax activation and thus does not represent logits. Was this intended?\"\n",
            "  '\"`categorical_crossentropy` received `from_logits=True`, but '\n"
          ]
        },
        {
          "output_type": "stream",
          "name": "stdout",
          "text": [
            "1875/1875 [==============================] - 136s 72ms/step - loss: 0.4179 - accuracy: 0.8462 - val_loss: 0.3278 - val_accuracy: 0.8778\n",
            "Epoch 2/8\n",
            "1875/1875 [==============================] - 134s 72ms/step - loss: 0.2793 - accuracy: 0.8984 - val_loss: 0.2918 - val_accuracy: 0.8937\n",
            "Epoch 3/8\n",
            "1875/1875 [==============================] - 136s 72ms/step - loss: 0.2421 - accuracy: 0.9115 - val_loss: 0.2928 - val_accuracy: 0.8977\n",
            "Epoch 4/8\n",
            "1875/1875 [==============================] - 135s 72ms/step - loss: 0.2172 - accuracy: 0.9209 - val_loss: 0.2773 - val_accuracy: 0.9015\n",
            "Epoch 5/8\n",
            "1875/1875 [==============================] - 135s 72ms/step - loss: 0.1961 - accuracy: 0.9275 - val_loss: 0.2792 - val_accuracy: 0.9013\n",
            "Epoch 6/8\n",
            "1875/1875 [==============================] - 138s 73ms/step - loss: 0.1828 - accuracy: 0.9326 - val_loss: 0.2517 - val_accuracy: 0.9104\n",
            "Epoch 7/8\n",
            "1875/1875 [==============================] - 133s 71ms/step - loss: 0.1648 - accuracy: 0.9388 - val_loss: 0.2527 - val_accuracy: 0.9098\n",
            "Epoch 8/8\n",
            "1875/1875 [==============================] - 133s 71ms/step - loss: 0.1522 - accuracy: 0.9434 - val_loss: 0.2456 - val_accuracy: 0.9155\n"
          ]
        }
      ],
      "metadata": {
        "colab": {
          "base_uri": "https://localhost:8080/"
        },
        "id": "AO9cNiZMOr6P",
        "outputId": "b6547dc7-4cef-4beb-f0ff-a8ccd1ab4e85"
      }
    },
    {
      "cell_type": "markdown",
      "source": [
        "Here, we visualise the loss and accuracy of the train and validation data and observe that both losses keep decreasing and a subsequent rise in the accuracies seen."
      ],
      "metadata": {
        "id": "XbCeQGId6AYh"
      }
    },
    {
      "cell_type": "code",
      "execution_count": null,
      "source": [
        "figure= plt.figure(figsize=(10,4))\r\n",
        "ax = plt.subplot(121)\r\n",
        "ax.plot(history.history['loss'], 'r', label='train')\r\n",
        "ax.plot(history.history['val_loss'], 'g', label='val')\r\n",
        "\r\n",
        "plt.legend()\r\n",
        "plt.grid(axis='y')\r\n",
        "plt.xlabel(\"epoch\")\r\n",
        "plt.ylabel(\"Loss\")\r\n",
        "\r\n",
        "ax2 = plt.subplot(122)\r\n",
        "ax2.plot(history.history['accuracy'], 'b', label=\"train\")\r\n",
        "ax2.plot(history.history['val_accuracy'], 'g', label=\"val\")\r\n",
        "plt.legend()\r\n",
        "plt.xlabel(\"epoch\")\r\n",
        "plt.ylabel(\"accuracy\")\r\n",
        "plt.grid(axis='y')"
      ],
      "outputs": [
        {
          "output_type": "display_data",
          "data": {
            "image/png": "[encoded data removed]",
            "text/plain": [
              "<Figure size 720x288 with 2 Axes>"
            ]
          },
          "metadata": {
            "needs_background": "light"
          }
        }
      ],
      "metadata": {
        "colab": {
          "base_uri": "https://localhost:8080/",
          "height": 279
        },
        "id": "kXZqtd9mfPC4",
        "outputId": "868bfc22-64af-420f-9b41-fd1a64a48c14"
      }
    },
    {
      "cell_type": "markdown",
      "source": [
        "# HYPERPARAMETER TUNING\n",
        "A hyperparameter is a parameter whose value is used to control the learning process. By contrast, the values of other parameters (typically node weights) are learnt.\n",
        "\n",
        "L2 regularization, Dropout and Keras autotuner is used in this notebook to demonstrate the same."
      ],
      "metadata": {
        "id": "ITCzBs9V_Svp"
      }
    },
    {
      "cell_type": "markdown",
      "source": [
        "## L2 REGULARIZATION"
      ],
      "metadata": {
        "id": "wG6qTS7Fr298"
      }
    },
    {
      "cell_type": "markdown",
      "source": [
        "L2 regularization adds a penalty term to the cost\n",
        "function thus ,again preventing overfitting. \n",
        "\n",
        "L2 was used in the weights and bias regularization\n",
        "for the network during backpropagation."
      ],
      "metadata": {
        "id": "mkL7bTyL6g1Y"
      }
    },
    {
      "cell_type": "code",
      "execution_count": null,
      "source": [
        "from keras.regularizers import l2\r\n",
        "\r\n",
        "model =models.Sequential()\r\n",
        "model.add(tf.keras.layers.Conv2D(16, (3,3), activation=\"relu\", input_shape=(28,28,1), padding=\"same\"))\r\n",
        "model.add(tf.keras.layers.MaxPooling2D(2,2))\r\n",
        "model.add(tf.keras.layers.Conv2D(64, (3,3), activation=\"relu\", padding=\"same\")) \r\n",
        "model.add(tf.keras.layers.MaxPooling2D(2,2))\r\n",
        "model.add(tf.keras.layers.Conv2D(256, (3,3), activation=\"relu\", padding=\"same\"))\r\n",
        "model.add(tf.keras.layers.MaxPooling2D(2,2))                                    \r\n",
        "model.add(tf.keras.layers.Flatten())\r\n",
        "model.add(tf.keras.layers.Dense(64, kernel_regularizer=l2(0.01), bias_regularizer=l2(0.01), activation=\"relu\")) #regularisation added to this layer\r\n",
        "model.add(tf.keras.layers.Dense(10,activation='softmax'))"
      ],
      "outputs": [],
      "metadata": {
        "id": "JrVi5fjqqYLR"
      }
    },
    {
      "cell_type": "markdown",
      "source": [
        "The model is now compiled and trained in the similar way as before."
      ],
      "metadata": {
        "id": "CNrgrNX6DFqF"
      }
    },
    {
      "cell_type": "code",
      "execution_count": null,
      "source": [
        "model.compile(optimizer=optimizer_fn,\r\n",
        "              loss=loss_fn,\r\n",
        "              metrics=['accuracy'])"
      ],
      "outputs": [],
      "metadata": {
        "id": "cO4DdRZhrvDR"
      }
    },
    {
      "cell_type": "markdown",
      "source": [
        "The model gave us a max accuracy of 91.66% on the validation dataset."
      ],
      "metadata": {
        "id": "vZ2uSOQaDISr"
      }
    },
    {
      "cell_type": "code",
      "execution_count": null,
      "source": [
        "history = model.fit(x_train, y_train, validation_data=(x_test, y_test),epochs=8,batch_size=32)"
      ],
      "outputs": [
        {
          "output_type": "stream",
          "name": "stdout",
          "text": [
            "Epoch 1/8\n"
          ]
        },
        {
          "output_type": "stream",
          "name": "stderr",
          "text": [
            "/usr/local/lib/python3.7/dist-packages/keras/backend.py:4847: UserWarning: \"`categorical_crossentropy` received `from_logits=True`, but the `output` argument was produced by a sigmoid or softmax activation and thus does not represent logits. Was this intended?\"\n",
            "  '\"`categorical_crossentropy` received `from_logits=True`, but '\n"
          ]
        },
        {
          "output_type": "stream",
          "name": "stdout",
          "text": [
            "1875/1875 [==============================] - 139s 74ms/step - loss: 0.2420 - accuracy: 0.9259 - val_loss: 0.2882 - val_accuracy: 0.9098\n",
            "Epoch 2/8\n",
            "1875/1875 [==============================] - 138s 74ms/step - loss: 0.2341 - accuracy: 0.9290 - val_loss: 0.2750 - val_accuracy: 0.9152\n",
            "Epoch 3/8\n",
            "1875/1875 [==============================] - 140s 75ms/step - loss: 0.2254 - accuracy: 0.9320 - val_loss: 0.2829 - val_accuracy: 0.9126\n",
            "Epoch 4/8\n",
            "1875/1875 [==============================] - 140s 74ms/step - loss: 0.2198 - accuracy: 0.9345 - val_loss: 0.2930 - val_accuracy: 0.9116\n",
            "Epoch 5/8\n",
            "1875/1875 [==============================] - 139s 74ms/step - loss: 0.2118 - accuracy: 0.9382 - val_loss: 0.2804 - val_accuracy: 0.9166\n",
            "Epoch 6/8\n",
            "1875/1875 [==============================] - 142s 76ms/step - loss: 0.2063 - accuracy: 0.9390 - val_loss: 0.2977 - val_accuracy: 0.9103\n",
            "Epoch 7/8\n",
            "1875/1875 [==============================] - 140s 75ms/step - loss: 0.2010 - accuracy: 0.9405 - val_loss: 0.2912 - val_accuracy: 0.9131\n",
            "Epoch 8/8\n",
            "1875/1875 [==============================] - 139s 74ms/step - loss: 0.1936 - accuracy: 0.9438 - val_loss: 0.3187 - val_accuracy: 0.9047\n"
          ]
        }
      ],
      "metadata": {
        "colab": {
          "base_uri": "https://localhost:8080/"
        },
        "id": "-v4-sJ-RryDX",
        "outputId": "62046ca1-0716-4fb5-b264-1ea07b11189c"
      }
    },
    {
      "cell_type": "markdown",
      "source": [
        "The loss and accuracy graphs are plotted and the behaviour of the model observed."
      ],
      "metadata": {
        "id": "oVWgVXLJDpQY"
      }
    },
    {
      "cell_type": "code",
      "execution_count": null,
      "source": [
        "figure= plt.figure(figsize=(10,4))\r\n",
        "ax = plt.subplot(121)\r\n",
        "ax.plot(history.history['loss'], 'r', label='train')\r\n",
        "ax.plot(history.history['val_loss'], 'g', label='val')\r\n",
        "\r\n",
        "plt.legend()\r\n",
        "plt.grid(axis='y')\r\n",
        "plt.xlabel(\"epoch\")\r\n",
        "plt.ylabel(\"Loss\")\r\n",
        "\r\n",
        "ax2 = plt.subplot(122)\r\n",
        "ax2.plot(history.history['accuracy'], 'b', label=\"train\")\r\n",
        "ax2.plot(history.history['val_accuracy'], 'g', label=\"val\")\r\n",
        "plt.legend()\r\n",
        "plt.xlabel(\"epoch\")\r\n",
        "plt.ylabel(\"accuracy\")\r\n",
        "plt.grid(axis='y')\r\n"
      ],
      "outputs": [
        {
          "output_type": "display_data",
          "data": {
            "image/png": "[encoded data removed]",
            "text/plain": [
              "<Figure size 720x288 with 2 Axes>"
            ]
          },
          "metadata": {
            "needs_background": "light"
          }
        }
      ],
      "metadata": {
        "colab": {
          "base_uri": "https://localhost:8080/",
          "height": 280
        },
        "id": "m36ME80vsAuj",
        "outputId": "5a3b1a50-7c3c-495e-83ac-5708aaa2a3f5"
      }
    },
    {
      "cell_type": "markdown",
      "source": [
        "## Dropout"
      ],
      "metadata": {
        "id": "nQmcNa7dPVa5"
      }
    },
    {
      "cell_type": "markdown",
      "source": [
        "* Dropout is the process in which we turn off\n",
        "certain nodes in the network to prevent any\n",
        "overfitting.\n",
        "* A dropout of 0.3 was applied on the fully\n",
        "connected hidden layer i.e. 30% of the nodes randomly turned off while training the model."
      ],
      "metadata": {
        "id": "WtDk3SRN-KaL"
      }
    },
    {
      "cell_type": "code",
      "execution_count": null,
      "source": [
        "model =models.Sequential()\r\n",
        "model.add(tf.keras.layers.Conv2D(16, (3,3), activation=\"relu\", input_shape=(28,28,1), padding=\"same\"))\r\n",
        "model.add(tf.keras.layers.MaxPooling2D(2,2))\r\n",
        "model.add(tf.keras.layers.Conv2D(64, (3,3), activation=\"relu\", padding=\"same\"))\r\n",
        "model.add(tf.keras.layers.MaxPooling2D(2,2))\r\n",
        "model.add(tf.keras.layers.Conv2D(256, (3,3), activation=\"relu\", padding=\"same\")) \r\n",
        "model.add(tf.keras.layers.MaxPooling2D(2,2))                                     \r\n",
        "model.add(tf.keras.layers.Flatten())\r\n",
        "model.add(tf.keras.layers.Dropout(0.3))                                          #added a dropout layer of 30%\r\n",
        "model.add(tf.keras.layers.Dense(64,activation=\"relu\"))\r\n",
        "model.add(tf.keras.layers.Dense(10,activation='softmax'))"
      ],
      "outputs": [],
      "metadata": {
        "id": "mCuCNpqpsC_r"
      }
    },
    {
      "cell_type": "markdown",
      "source": [
        "The model is now compiled and trained in the similar way as before."
      ],
      "metadata": {
        "id": "EVZuAiCO-9ts"
      }
    },
    {
      "cell_type": "code",
      "execution_count": null,
      "source": [
        "model.compile(optimizer=optimizer_fn,\r\n",
        "              loss=loss_fn,\r\n",
        "              metrics=['accuracy'])"
      ],
      "outputs": [],
      "metadata": {
        "id": "LbMX4g9NsIKX"
      }
    },
    {
      "cell_type": "markdown",
      "source": [
        "The model gave us max accuracy of 91.61% on the validation dataset."
      ],
      "metadata": {
        "id": "RkfmJr-4_KM6"
      }
    },
    {
      "cell_type": "code",
      "execution_count": null,
      "source": [
        "history = model.fit(x_train, y_train, validation_data=(x_test, y_test),epochs=8,batch_size=32)"
      ],
      "outputs": [
        {
          "output_type": "stream",
          "name": "stdout",
          "text": [
            "Epoch 1/8\n"
          ]
        },
        {
          "output_type": "stream",
          "name": "stderr",
          "text": [
            "/usr/local/lib/python3.7/dist-packages/keras/backend.py:4847: UserWarning: \"`categorical_crossentropy` received `from_logits=True`, but the `output` argument was produced by a sigmoid or softmax activation and thus does not represent logits. Was this intended?\"\n",
            "  '\"`categorical_crossentropy` received `from_logits=True`, but '\n"
          ]
        },
        {
          "output_type": "stream",
          "name": "stdout",
          "text": [
            "1875/1875 [==============================] - 137s 73ms/step - loss: 0.4075 - accuracy: 0.8508 - val_loss: 0.2997 - val_accuracy: 0.8897\n",
            "Epoch 2/8\n",
            "1875/1875 [==============================] - 137s 73ms/step - loss: 0.2748 - accuracy: 0.8991 - val_loss: 0.2711 - val_accuracy: 0.9012\n",
            "Epoch 3/8\n",
            "1875/1875 [==============================] - 136s 73ms/step - loss: 0.2399 - accuracy: 0.9107 - val_loss: 0.2516 - val_accuracy: 0.9087\n",
            "Epoch 4/8\n",
            "1875/1875 [==============================] - 139s 74ms/step - loss: 0.2165 - accuracy: 0.9197 - val_loss: 0.2394 - val_accuracy: 0.9105\n",
            "Epoch 5/8\n",
            "1875/1875 [==============================] - 136s 73ms/step - loss: 0.1990 - accuracy: 0.9259 - val_loss: 0.2430 - val_accuracy: 0.9143\n",
            "Epoch 6/8\n",
            "1875/1875 [==============================] - 136s 72ms/step - loss: 0.1817 - accuracy: 0.9327 - val_loss: 0.2403 - val_accuracy: 0.9161\n",
            "Epoch 7/8\n",
            "1875/1875 [==============================] - 136s 73ms/step - loss: 0.1698 - accuracy: 0.9367 - val_loss: 0.2370 - val_accuracy: 0.9151\n",
            "Epoch 8/8\n",
            "1875/1875 [==============================] - 136s 73ms/step - loss: 0.1586 - accuracy: 0.9408 - val_loss: 0.2410 - val_accuracy: 0.9135\n"
          ]
        }
      ],
      "metadata": {
        "colab": {
          "base_uri": "https://localhost:8080/"
        },
        "id": "77x4F8qUsKu8",
        "outputId": "cabc7638-cbea-45be-bbe3-030a52db5402"
      }
    },
    {
      "cell_type": "markdown",
      "source": [
        "The loss and accuracy graphs are plotted and the behaviour of the model observed."
      ],
      "metadata": {
        "id": "bLHODVXs9857"
      }
    },
    {
      "cell_type": "code",
      "execution_count": null,
      "source": [
        "figure= plt.figure(figsize=(10,4))\r\n",
        "ax = plt.subplot(121)\r\n",
        "ax.plot(history.history['loss'], 'r', label='train')\r\n",
        "ax.plot(history.history['val_loss'], 'g', label='val')\r\n",
        "\r\n",
        "plt.legend()\r\n",
        "plt.grid(axis='y')\r\n",
        "plt.xlabel(\"epoch\")\r\n",
        "plt.ylabel(\"Loss\")\r\n",
        "\r\n",
        "ax2 = plt.subplot(122)\r\n",
        "ax2.plot(history.history['accuracy'], 'b', label=\"train\")\r\n",
        "ax2.plot(history.history['val_accuracy'], 'g', label=\"val\")\r\n",
        "plt.legend()\r\n",
        "plt.xlabel(\"epoch\")\r\n",
        "plt.ylabel(\"accuracy\")\r\n",
        "plt.grid(axis='y')"
      ],
      "outputs": [
        {
          "output_type": "display_data",
          "data": {
            "image/png": "[encoded data removed]",
            "text/plain": [
              "<Figure size 720x288 with 2 Axes>"
            ]
          },
          "metadata": {
            "needs_background": "light"
          }
        }
      ],
      "metadata": {
        "colab": {
          "base_uri": "https://localhost:8080/",
          "height": 279
        },
        "id": "QLfcxcG6sN4U",
        "outputId": "0922e566-c447-4aac-ba9e-6afbf589c9ac"
      }
    },
    {
      "cell_type": "markdown",
      "source": [
        "## Auto tuning using Keras Tuner"
      ],
      "metadata": {
        "id": "sD9OQmqy79AM"
      }
    },
    {
      "cell_type": "markdown",
      "source": [
        "* Keras tuner is the automatic tuning tool though which we can give range of values to choose from for hyperparameters for the kernels,learning rate, convolutional 2D layer dimensions and the best ones are tried out and set.\n",
        "\n",
        "* The three parameters I changed were:\n",
        "\n",
        "  1. Learning rate - 0.01,0.001,0.0001\n",
        "  2. Kernel size - 3,4,5\n",
        "  3. Size of fully connected layer - 32 to 128 with a step size of 32\n",
        "\n",
        "* The model was trained on these parameters for 5 trials for 10 epochs each time, the best parameters chosen, the best epoch taken and the model finally trained for only the given max epochs to get the best accuracy as given by the autotuner."
      ],
      "metadata": {
        "id": "OXfZEwnt8Tz1"
      }
    },
    {
      "cell_type": "code",
      "execution_count": null,
      "source": [
        "!pip install keras-tuner"
      ],
      "outputs": [],
      "metadata": {
        "id": "nPyV_-pS_MqV"
      }
    },
    {
      "cell_type": "markdown",
      "source": [
        "The model is defined in the similar fashion as that of any other CNN.\n",
        "\n",
        "We also provide the alternate values we would want the autotuner to look into and select the best out of them."
      ],
      "metadata": {
        "id": "s_Inu7d28lFd"
      }
    },
    {
      "cell_type": "code",
      "execution_count": null,
      "source": [
        "def build_model(hp):\r\n",
        "  model1 =models.Sequential()\r\n",
        "  hp_units1 = hp.Int('units1', min_value=32, max_value=128, step=32)  \r\n",
        "  model1.add(tf.keras.layers.Conv2D(16, (3,3), activation=\"relu\", input_shape=(28,28,1), padding=\"same\"))\r\n",
        "  model1.add(tf.keras.layers.MaxPooling2D(2,2))\r\n",
        "  model1.add(tf.keras.layers.Conv2D(64, (3,3), activation=\"relu\", padding=\"same\")) \r\n",
        "  model1.add(tf.keras.layers.MaxPooling2D(2,2))\r\n",
        "  model1.add(tf.keras.layers.Conv2D(256,activation=\"relu\", padding=\"same\",kernel_size=hp.Choice('conv_1_kernel', values = [2,3,5]))) #HP2\r\n",
        "  model1.add(tf.keras.layers.MaxPooling2D(2,2))                                    \r\n",
        "  model1.add(tf.keras.layers.Flatten())\r\n",
        "  model1.add(tf.keras.layers.Dense(units=hp_units1, activation=\"relu\"))     #HP1\r\n",
        "  model1.add(tf.keras.layers.Dense(10,activation='softmax'))\r\n",
        "\r\n",
        "  hp_learning_rate = hp.Choice('learning_rate', values=[1e-2, 1e-3, 1e-4])    #HP3\r\n",
        "\r\n",
        "  model1.compile(optimizer=tf.keras.optimizers.Adam(learning_rate=hp_learning_rate),\r\n",
        "              loss=loss_fn,\r\n",
        "              metrics=['accuracy'])\r\n",
        "  return model1"
      ],
      "outputs": [],
      "metadata": {
        "id": "65P8EXRu8J4f"
      }
    },
    {
      "cell_type": "markdown",
      "source": [
        "The auto tuner is set to run and returns us the best accuracy it achieved."
      ],
      "metadata": {
        "id": "-SC_c3HE9Cw6"
      }
    },
    {
      "cell_type": "code",
      "execution_count": null,
      "source": [
        "import keras_tuner as kt\r\n",
        "stop_early = tf.keras.callbacks.EarlyStopping(monitor='val_loss', patience=5)\r\n",
        "\r\n",
        "tuner = kt.RandomSearch(build_model,objective='val_accuracy',max_trials = 5,overwrite=True)\r\n",
        "tuner.search(x_train, y_train, validation_data=(x_test, y_test),epochs=10,callbacks=[stop_early])\r\n"
      ],
      "outputs": [
        {
          "output_type": "stream",
          "name": "stdout",
          "text": [
            "Trial 5 Complete [00h 15m 22s]\n",
            "val_accuracy: 0.9007999897003174\n",
            "\n",
            "Best val_accuracy So Far: 0.9190000295639038\n",
            "Total elapsed time: 01h 40m 19s\n",
            "INFO:tensorflow:Oracle triggered exit\n"
          ]
        },
        {
          "output_type": "stream",
          "name": "stderr",
          "text": [
            "INFO:tensorflow:Oracle triggered exit\n"
          ]
        }
      ],
      "metadata": {
        "colab": {
          "base_uri": "https://localhost:8080/"
        },
        "id": "sfDt4Nxf7rv8",
        "outputId": "dee256a2-de90-4843-bd1f-e476b1d22ca6"
      }
    },
    {
      "cell_type": "markdown",
      "source": [
        "The best hyper parameters chosen by the autotuner are now chosen to build the final model.\n",
        "\n",
        "It gave us an accuracy of 92.16% on the validation dataset."
      ],
      "metadata": {
        "id": "4qieszug9MPD"
      }
    },
    {
      "cell_type": "code",
      "execution_count": null,
      "source": [
        "best_hps = tuner.get_best_hyperparameters(num_trials=1)[0]"
      ],
      "outputs": [],
      "metadata": {
        "id": "W20LIy3JIln8"
      }
    },
    {
      "cell_type": "code",
      "execution_count": null,
      "source": [
        "model1= tuner.hypermodel.build(best_hps)\n",
        "history = model1.fit(x_train, y_train, epochs=10, validation_data=(x_test, y_test))\n",
        "\n",
        "val_acc_per_epoch = history.history['val_accuracy']\n",
        "best_epoch = val_acc_per_epoch.index(max(val_acc_per_epoch)) + 1\n",
        "print('Best epoch: %d' % (best_epoch,))"
      ],
      "outputs": [
        {
          "output_type": "stream",
          "name": "stdout",
          "text": [
            "Epoch 1/10\n"
          ]
        },
        {
          "output_type": "stream",
          "name": "stderr",
          "text": [
            "/usr/local/lib/python3.7/dist-packages/keras/backend.py:4847: UserWarning: \"`categorical_crossentropy` received `from_logits=True`, but the `output` argument was produced by a sigmoid or softmax activation and thus does not represent logits. Was this intended?\"\n",
            "  '\"`categorical_crossentropy` received `from_logits=True`, but '\n"
          ]
        },
        {
          "output_type": "stream",
          "name": "stdout",
          "text": [
            "1875/1875 [==============================] - 136s 72ms/step - loss: 0.4274 - accuracy: 0.8430 - val_loss: 0.3496 - val_accuracy: 0.8717\n",
            "Epoch 2/10\n",
            "1875/1875 [==============================] - 134s 72ms/step - loss: 0.2715 - accuracy: 0.9010 - val_loss: 0.2733 - val_accuracy: 0.9023\n",
            "Epoch 3/10\n",
            "1875/1875 [==============================] - 135s 72ms/step - loss: 0.2266 - accuracy: 0.9170 - val_loss: 0.2474 - val_accuracy: 0.9102\n",
            "Epoch 4/10\n",
            "1875/1875 [==============================] - 135s 72ms/step - loss: 0.1927 - accuracy: 0.9282 - val_loss: 0.2420 - val_accuracy: 0.9113\n",
            "Epoch 5/10\n",
            "1875/1875 [==============================] - 134s 72ms/step - loss: 0.1666 - accuracy: 0.9392 - val_loss: 0.2405 - val_accuracy: 0.9160\n",
            "Epoch 6/10\n",
            "1875/1875 [==============================] - 135s 72ms/step - loss: 0.1417 - accuracy: 0.9470 - val_loss: 0.2356 - val_accuracy: 0.9173\n",
            "Epoch 7/10\n",
            "1875/1875 [==============================] - 135s 72ms/step - loss: 0.1218 - accuracy: 0.9545 - val_loss: 0.2478 - val_accuracy: 0.9202\n",
            "Epoch 8/10\n",
            "1875/1875 [==============================] - 136s 72ms/step - loss: 0.1032 - accuracy: 0.9607 - val_loss: 0.2779 - val_accuracy: 0.9155\n",
            "Epoch 9/10\n",
            "1875/1875 [==============================] - 136s 73ms/step - loss: 0.0867 - accuracy: 0.9671 - val_loss: 0.2767 - val_accuracy: 0.9167\n",
            "Epoch 10/10\n",
            "1875/1875 [==============================] - 136s 73ms/step - loss: 0.0742 - accuracy: 0.9721 - val_loss: 0.2920 - val_accuracy: 0.9216\n",
            "Best epoch: 10\n"
          ]
        }
      ],
      "metadata": {
        "colab": {
          "base_uri": "https://localhost:8080/"
        },
        "id": "CnyFnyepMzu3",
        "outputId": "09682849-bb37-4070-d6f4-73fadcc0cc4a"
      }
    },
    {
      "cell_type": "markdown",
      "source": [
        "The loss and accuracy graphs are plotted and the behaviour of the model observed."
      ],
      "metadata": {
        "id": "cRdxzabV9ORQ"
      }
    },
    {
      "cell_type": "code",
      "execution_count": null,
      "source": [
        "figure= plt.figure(figsize=(10,4))\n",
        "ax = plt.subplot(121)\n",
        "ax.plot(history.history['loss'], 'r', label='train')\n",
        "ax.plot(history.history['val_loss'], 'g', label='val')\n",
        "\n",
        "plt.legend()\n",
        "plt.grid(axis='y')\n",
        "plt.xlabel(\"epoch\")\n",
        "plt.ylabel(\"Loss\")\n",
        "\n",
        "ax2 = plt.subplot(122)\n",
        "ax2.plot(history.history['accuracy'], 'b', label=\"train\")\n",
        "ax2.plot(history.history['val_accuracy'], 'g', label=\"val\")\n",
        "plt.legend()\n",
        "plt.xlabel(\"epoch\")\n",
        "plt.ylabel(\"accuracy\")\n",
        "plt.grid(axis='y')"
      ],
      "outputs": [
        {
          "output_type": "display_data",
          "data": {
            "image/png": "[encoded data removed]",
            "text/plain": [
              "<Figure size 720x288 with 2 Axes>"
            ]
          },
          "metadata": {
            "needs_background": "light"
          }
        }
      ],
      "metadata": {
        "colab": {
          "base_uri": "https://localhost:8080/",
          "height": 279
        },
        "id": "vS3JrD3LokxU",
        "outputId": "7b549d2e-c26a-456b-d3a8-8630f8e0a7e2"
      }
    }
  ]
}